{
 "cells": [
  {
   "cell_type": "markdown",
   "metadata": {},
   "source": [
    "# FEniCSx - Lineare Elastizität"
   ]
  },
  {
   "cell_type": "markdown",
   "metadata": {},
   "source": [
    "<style>\n",
    "a:link {\n",
    "  color: rgba(200, 200, 200, 1);\n",
    "  background-color: transparent;\n",
    "  text-decoration: none;\n",
    "}\n",
    "a:hover {\n",
    "  color: rgba(200, 200, 200, 1);\n",
    "  background-color: transparent;\n",
    "  text-decoration: underline;\n",
    "}\n",
    "</style>\n",
    "## Inhaltsverzeichnis<a id='toc0_'></a>    \n",
    "- 1. [Voraussetzungen](#toc1_)    \n",
    "- 2. [Start des Linux Containers in VSCode](#toc2_)    \n",
    "- 3. [Beispiel des FEniCSx Workflows](#toc3_)    \n",
    "  - 3.1. [Aufgabe](#toc3_1_)    \n",
    "  - 3.2. [Lösung](#toc3_2_)    \n",
    "    - 3.2.1. [Notwendige Bibliotheken](#toc3_2_1_)    \n",
    "    - 3.2.2. [Parameter](#toc3_2_2_)    \n",
    "    - 3.2.3. [Geometrie und Vernetzung](#toc3_2_3_)    \n",
    "    - 3.2.4. [Randbedingungen](#toc3_2_4_)    \n",
    "    - 3.2.5. [Zusammenhänge der linearen Elastizität](#toc3_2_5_)    \n",
    "    - 3.2.6. [Solver](#toc3_2_6_)    \n",
    "    - 3.2.7. [Visualisierung](#toc3_2_7_)    \n",
    "- 4. [Referenzen](#toc4_)    \n",
    "\n",
    "<!-- vscode-jupyter-toc-config\n",
    "\tnumbering=true\n",
    "\tanchor=true\n",
    "\tflat=false\n",
    "\tminLevel=2\n",
    "\tmaxLevel=6\n",
    "\t/vscode-jupyter-toc-config -->\n",
    "<!-- THIS CELL WILL BE REPLACED ON TOC UPDATE. DO NOT WRITE YOUR TEXT IN THIS CELL -->"
   ]
  },
  {
   "cell_type": "markdown",
   "metadata": {},
   "source": [
    "<style>\n",
    "a:link {\n",
    "  color: rgba(200, 200, 200, 1);\n",
    "  background-color: transparent;\n",
    "  text-decoration: none;\n",
    "}\n",
    "a:hover {\n",
    "  color: rgba(200, 200, 200, 1);\n",
    "  background-color: transparent;\n",
    "  text-decoration: underline;\n",
    "}\n",
    "</style>\n",
    "## 1. <a id='toc1_'></a>[Voraussetzungen](#toc0_)"
   ]
  },
  {
   "cell_type": "markdown",
   "metadata": {},
   "source": [
    "- Installation von **Docker** & **VSCode**\n",
    "- Erweiterungen in **VSCode**:\n",
    "    - Remote Development"
   ]
  },
  {
   "cell_type": "markdown",
   "metadata": {},
   "source": [
    "<style>\n",
    "a:link {\n",
    "  color: rgba(200, 200, 200, 1);\n",
    "  background-color: transparent;\n",
    "  text-decoration: none;\n",
    "}\n",
    "a:hover {\n",
    "  color: rgba(200, 200, 200, 1);\n",
    "  background-color: transparent;\n",
    "  text-decoration: underline;\n",
    "}\n",
    "</style>\n",
    "## 2. <a id='toc2_'></a>[Start des Linux Containers in VSCode](#toc0_)"
   ]
  },
  {
   "cell_type": "markdown",
   "metadata": {},
   "source": [
    "| Windows          | Mac                 |\n",
    "|------------------|---------------------|\n",
    "| Strg + Shift + P | Command + Shift + P |\n",
    "\n",
    "1. Eingabe: `Dev Containers: Clone Repository in Container Volume`\n",
    "2. Eingabe: `psatke/FEniCSx-Env`\n",
    "\n",
    "Nachdem der Container läuft kann das Notebook unter `src/FEniCSx-LineareElastizität.ipynb` aufgerufen werden.\n",
    "\n",
    "Info: Um Dateien aus dem Container heraus oder in ihn hinein zu kopieren kann folgender Befehl verwendet werden:\n",
    "\n",
    "`docker cp [OPTIONS] CONTAINER:SRC_PATH DEST_PATH|-`\n",
    "\n",
    "`docker cp [OPTIONS] SRC_PATH|- CONTAINER:DEST_PATH`\n",
    "\n",
    "Beispiel: \n",
    "\n",
    "` docker cp ./some_file CONTAINER:/work`"
   ]
  },
  {
   "cell_type": "markdown",
   "metadata": {},
   "source": [
    "<style>\n",
    "a:link {\n",
    "  color: rgba(200, 200, 200, 1);\n",
    "  background-color: transparent;\n",
    "  text-decoration: none;\n",
    "}\n",
    "a:hover {\n",
    "  color: rgba(200, 200, 200, 1);\n",
    "  background-color: transparent;\n",
    "  text-decoration: underline;\n",
    "}\n",
    "</style>\n",
    "\n",
    "## 3. <a id='toc3_'></a>[Beispiel des FEniCSx Workflows](#toc0_)"
   ]
  },
  {
   "cell_type": "markdown",
   "metadata": {},
   "source": [
    "<style>\n",
    "a:link {\n",
    "  color: rgba(200, 200, 200, 1);\n",
    "  background-color: transparent;\n",
    "  text-decoration: none;\n",
    "}\n",
    "a:hover {\n",
    "  color: rgba(200, 200, 200, 1);\n",
    "  background-color: transparent;\n",
    "  text-decoration: underline;\n",
    "}\n",
    "</style>\n",
    "### 3.1. <a id='toc3_1_'></a>[Aufgabe](#toc0_)"
   ]
  },
  {
   "cell_type": "markdown",
   "metadata": {},
   "source": [
    "[<img src=\"Aufgabe_3-Punkt.svg\" width=\"600\"/>](Aufgabe_3-Punkt.svg)\n",
    "\n",
    "Berechne die Verschiebungen des Tragwerks mittels FEM und stelle sie in einer geeigneten Form dar.\n",
    "\n",
    "Materialparameter:\n",
    "- $E = 2e11\\,\\text{N}\\,\\text{m}^\\text{-2}$\n",
    "- $\\nu = 0.3$\n",
    "- $\\rho = 7850\\,\\text{kg}\\,\\text{m}^\\text{-3}$"
   ]
  },
  {
   "cell_type": "markdown",
   "metadata": {},
   "source": [
    "<style>\n",
    "a:link {\n",
    "  color: rgba(200, 200, 200, 1);\n",
    "  background-color: transparent;\n",
    "  text-decoration: none;\n",
    "}\n",
    "a:hover {\n",
    "  color: rgba(200, 200, 200, 1);\n",
    "  background-color: transparent;\n",
    "  text-decoration: underline;\n",
    "}\n",
    "</style>\n",
    "### 3.2. <a id='toc3_2_'></a>[Lösung](#toc0_)"
   ]
  },
  {
   "cell_type": "markdown",
   "metadata": {},
   "source": [
    "<style>\n",
    "a:link {\n",
    "  color: rgba(200, 200, 200, 1);\n",
    "  background-color: transparent;\n",
    "  text-decoration: none;\n",
    "}\n",
    "a:hover {\n",
    "  color: rgba(200, 200, 200, 1);\n",
    "  background-color: transparent;\n",
    "  text-decoration: underline;\n",
    "}\n",
    "</style>\n",
    "#### 3.2.1. <a id='toc3_2_1_'></a>[Notwendige Bibliotheken](#toc0_)"
   ]
  },
  {
   "cell_type": "code",
   "execution_count": 28,
   "metadata": {},
   "outputs": [],
   "source": [
    "# FEniCSx Bibliotheken\n",
    "import dolfinx\n",
    "import ufl\n",
    "\n",
    "# Datenverwaltung für die CPU oder GPU Nutzung\n",
    "from petsc4py import PETSc\n",
    "from mpi4py import MPI\n",
    "\n",
    "# Visualisierung\n",
    "import pyvista\n",
    "\n",
    "import numpy as np"
   ]
  },
  {
   "cell_type": "markdown",
   "metadata": {},
   "source": [
    "<style>\n",
    "a:link {\n",
    "  color: rgba(200, 200, 200, 1);\n",
    "  background-color: transparent;\n",
    "  text-decoration: none;\n",
    "}\n",
    "a:hover {\n",
    "  color: rgba(200, 200, 200, 1);\n",
    "  background-color: transparent;\n",
    "  text-decoration: underline;\n",
    "}\n",
    "</style>\n",
    "#### 3.2.2. <a id='toc3_2_2_'></a>[Parameter](#toc0_)"
   ]
  },
  {
   "cell_type": "code",
   "execution_count": 29,
   "metadata": {},
   "outputs": [],
   "source": [
    "L = 0.5         # [m]\n",
    "W = 0.1         # [m] \n",
    "nu = 0.3\n",
    "EMod = 2e11     # [N/m2]\n",
    "rho = 7850      # [kg/m3]\n",
    "\n",
    "q = -200000     # [N/m2]\n",
    "\n",
    "# Lamé-Konstanten für isotrope Festkörper\n",
    "lambda_ = nu/(1-2*nu)*1/(1+nu)*EMod\n",
    "mu = 1/2*1/(1+nu)*EMod"
   ]
  },
  {
   "cell_type": "markdown",
   "metadata": {},
   "source": [
    "<style>\n",
    "a:link {\n",
    "  color: rgba(200, 200, 200, 1);\n",
    "  background-color: transparent;\n",
    "  text-decoration: none;\n",
    "}\n",
    "a:hover {\n",
    "  color: rgba(200, 200, 200, 1);\n",
    "  background-color: transparent;\n",
    "  text-decoration: underline;\n",
    "}\n",
    "</style>\n",
    "#### 3.2.3. <a id='toc3_2_3_'></a>[Geometrie und Vernetzung](#toc0_)"
   ]
  },
  {
   "cell_type": "code",
   "execution_count": 30,
   "metadata": {},
   "outputs": [
    {
     "name": "stdout",
     "output_type": "stream",
     "text": [
      "Dieses Notebook kann auf 1 Prozessor-Kern zugreifen\n"
     ]
    }
   ],
   "source": [
    "# Communicator zwischen CPU oder GPU\n",
    "comm = MPI.COMM_WORLD\n",
    "print(\"Dieses Notebook kann auf {} Prozessor-Kern zugreifen\".format(comm.Get_size()))"
   ]
  },
  {
   "cell_type": "code",
   "execution_count": 31,
   "metadata": {},
   "outputs": [
    {
     "name": "stdout",
     "output_type": "stream",
     "text": [
      "Das erstellte Netz hat 3 Dimensionen und die erzeugten Elemente und Knoten sind wie folgt Nummeriert: \n",
      "<AdjacencyList> with 2 nodes\n",
      "  0: [0 1 2 3 4 5 6 7 ]\n",
      "  1: [4 5 6 7 8 9 10 11 ]\n",
      "\n"
     ]
    }
   ],
   "source": [
    "mesh = dolfinx.mesh.create_box(MPI.COMM_WORLD, [np.array([0,0,0]), np.array([L,W,W])], [1,1,2], cell_type=dolfinx.mesh.CellType.hexahedron)\n",
    "print(\"Das erstellte Netz hat {} Dimensionen und die erzeugten Elemente und Knoten sind wie folgt Nummeriert: \\n{}\".format(mesh.geometry.dim, mesh.geometry.dofmap))"
   ]
  },
  {
   "cell_type": "code",
   "execution_count": 32,
   "metadata": {},
   "outputs": [
    {
     "data": {
      "text/plain": [
       "(array([ 8,  0,  1,  3,  2,  4,  5,  7,  6,  8,  4,  5,  7,  6,  8,  9, 11,\n",
       "        10], dtype=int32),\n",
       " array([12, 12]),\n",
       " array([[ 1.38777878e-17, -2.77555756e-18,  6.93889390e-19],\n",
       "        [ 5.00000000e-01,  1.38777878e-17,  6.24500451e-18],\n",
       "        [ 5.55111512e-17,  1.00000000e-01,  6.24500451e-18],\n",
       "        [ 5.00000000e-01,  1.00000000e-01, -9.71445147e-18],\n",
       "        [ 1.38777878e-17, -2.77555756e-18,  5.00000000e-02],\n",
       "        [ 5.00000000e-01,  1.38777878e-17,  5.00000000e-02],\n",
       "        [ 5.55111512e-17,  1.00000000e-01,  5.00000000e-02],\n",
       "        [ 5.00000000e-01,  1.00000000e-01,  5.00000000e-02],\n",
       "        [ 4.85722573e-17,  6.93889390e-18,  1.00000000e-01],\n",
       "        [ 5.00000000e-01, -1.52655666e-17,  1.00000000e-01],\n",
       "        [-9.71445147e-17,  1.00000000e-01,  1.00000000e-01],\n",
       "        [ 5.00000000e-01,  1.00000000e-01,  1.00000000e-01]]))"
      ]
     },
     "execution_count": 32,
     "metadata": {},
     "output_type": "execute_result"
    }
   ],
   "source": [
    "V = dolfinx.fem.VectorFunctionSpace(mesh, (\"CG\", 1))\n",
    "topology, cell_types, geometry = dolfinx.plot.create_vtk_mesh(V)\n",
    "topology, cell_types, geometry"
   ]
  },
  {
   "cell_type": "code",
   "execution_count": 33,
   "metadata": {},
   "outputs": [],
   "source": [
    "#     +---------------------+         +                     +          ---------------------\n",
    "#    /                     /|                                        /                     /|\n",
    "#   /                     / |                                       /                     / |\n",
    "#  /                     /  |                                      /                     /  |\n",
    "# +---------------------+   +     +                     +   +      --------------------- \n",
    "# |                     |  /                                      |                     |  /\n",
    "# |        Mesh         | /               Geometry                |       Topology      | /\n",
    "# |                     |/                                        |                     |/\n",
    "# +---------------------+         +                     +          ---------------------"
   ]
  },
  {
   "cell_type": "markdown",
   "metadata": {},
   "source": [
    "<style>\n",
    "a:link {\n",
    "  color: rgba(200, 200, 200, 1);\n",
    "  background-color: transparent;\n",
    "  text-decoration: none;\n",
    "}\n",
    "a:hover {\n",
    "  color: rgba(200, 200, 200, 1);\n",
    "  background-color: transparent;\n",
    "  text-decoration: underline;\n",
    "}\n",
    "</style>\n",
    "#### 3.2.4. <a id='toc3_2_4_'></a>[Randbedingungen](#toc0_)"
   ]
  },
  {
   "cell_type": "code",
   "execution_count": 34,
   "metadata": {},
   "outputs": [],
   "source": [
    "def floatingBearingGetLoc(x):\n",
    "    xBoolean = np.isclose(x[0], 0)\n",
    "    zBoolean = np.isclose(x[2], 0)\n",
    "    return xBoolean & zBoolean\n",
    "\n",
    "floatingBearingLoc = dolfinx.mesh.locate_entities_boundary(mesh, 1, floatingBearingGetLoc)\n",
    "floatingBearingDof = dolfinx.fem.locate_dofs_topological(V.sub(2), 1, floatingBearingLoc)\n",
    "\n",
    "floatingBearing = dolfinx.fem.dirichletbc(PETSc.ScalarType(0), floatingBearingDof, V.sub(2))"
   ]
  },
  {
   "cell_type": "code",
   "execution_count": 35,
   "metadata": {},
   "outputs": [],
   "source": [
    "def symmetryXGetLoc(x):\n",
    "    return np.isclose(x[0], L)\n",
    "\n",
    "symmetryXLoc = dolfinx.mesh.locate_entities_boundary(mesh, 2, symmetryXGetLoc)\n",
    "symmetryXDof = dolfinx.fem.locate_dofs_topological(V.sub(0), 2, symmetryXLoc)\n",
    "\n",
    "symmetryX = dolfinx.fem.dirichletbc(PETSc.ScalarType(0), symmetryXDof, V.sub(0))"
   ]
  },
  {
   "cell_type": "code",
   "execution_count": 36,
   "metadata": {},
   "outputs": [],
   "source": [
    "def symmetryYGetLoc(x):\n",
    "    return np.isclose(x[1], 0)\n",
    "\n",
    "symmetryYLoc = dolfinx.mesh.locate_entities_boundary(mesh, 2, symmetryYGetLoc)\n",
    "symmetryYDof = dolfinx.fem.locate_dofs_topological(V.sub(1), 2, symmetryYLoc)\n",
    "\n",
    "symmetryY = dolfinx.fem.dirichletbc(PETSc.ScalarType(0), symmetryYDof, V.sub(1))"
   ]
  },
  {
   "cell_type": "code",
   "execution_count": 37,
   "metadata": {},
   "outputs": [],
   "source": [
    "def loadGetLoc(x):\n",
    "    # xBoolean = np.isclose(x[0], L)\n",
    "    return np.isclose(x[2], W)\n",
    "    # return xBoolean & zBoolean\n",
    "\n",
    "loadLoc = dolfinx.mesh.locate_entities_boundary(mesh, 2, loadGetLoc)\n",
    "mt = dolfinx.mesh.meshtags(mesh, 2, loadLoc, 1)\n",
    "ds = ufl.Measure(\"ds\", domain=mesh, subdomain_data=mt, subdomain_id=1)\n",
    "# dx = ufl.Measure(\"dx\", domain=domain)"
   ]
  },
  {
   "cell_type": "code",
   "execution_count": 38,
   "metadata": {},
   "outputs": [],
   "source": [
    "T = dolfinx.fem.Constant(mesh, PETSc.ScalarType((0,0,q)))\n",
    "# T = dolfinx.Constant(domain, ufl.as_vector((0,0,-1000)))"
   ]
  },
  {
   "cell_type": "markdown",
   "metadata": {},
   "source": [
    "<style>\n",
    "a:link {\n",
    "  color: rgba(200, 200, 200, 1);\n",
    "  background-color: transparent;\n",
    "  text-decoration: none;\n",
    "}\n",
    "a:hover {\n",
    "  color: rgba(200, 200, 200, 1);\n",
    "  background-color: transparent;\n",
    "  text-decoration: underline;\n",
    "}\n",
    "</style>\n",
    "#### 3.2.5. <a id='toc3_2_5_'></a>[Zusammenhänge der linearen Elastizität](#toc0_)"
   ]
  },
  {
   "cell_type": "code",
   "execution_count": 39,
   "metadata": {},
   "outputs": [],
   "source": [
    "def epsilon(u):\n",
    "    return ufl.sym(ufl.grad(u))\n",
    "def sigma(u):\n",
    "    return lambda_ * ufl.nabla_div(u) * ufl.Identity(len(u)) + 2*mu*epsilon(u)\n",
    "\n",
    "u = ufl.TrialFunction(V)\n",
    "v = ufl.TestFunction(V)\n",
    "# f = dolfinx.fem.Constant(domain, PETSc.ScalarType((0,0,-9.81*rho)))\n",
    "f = dolfinx.fem.Constant(mesh, PETSc.ScalarType((0,0,0)))\n",
    "a = ufl.inner(sigma(u), epsilon(v)) * ufl.dx\n",
    "L = ufl.dot(f, v) * ufl.dx + ufl.dot(T, v) * ds\n",
    "# L = f* v * dx + T* v * ds"
   ]
  },
  {
   "cell_type": "markdown",
   "metadata": {},
   "source": [
    "<style>\n",
    "a:link {\n",
    "  color: rgba(200, 200, 200, 1);\n",
    "  background-color: transparent;\n",
    "  text-decoration: none;\n",
    "}\n",
    "a:hover {\n",
    "  color: rgba(200, 200, 200, 1);\n",
    "  background-color: transparent;\n",
    "  text-decoration: underline;\n",
    "}\n",
    "</style>\n",
    "#### 3.2.6. <a id='toc3_2_6_'></a>[Solver](#toc0_)"
   ]
  },
  {
   "cell_type": "code",
   "execution_count": 40,
   "metadata": {},
   "outputs": [],
   "source": [
    "problem = dolfinx.fem.petsc.LinearProblem(a, L, bcs=[floatingBearing, symmetryX, symmetryY], petsc_options={\"ksp_type\": \"preonly\", \"pc_type\": \"lu\"})\n",
    "uh = problem.solve()"
   ]
  },
  {
   "cell_type": "markdown",
   "metadata": {},
   "source": [
    "<style>\n",
    "a:link {\n",
    "  color: rgba(200, 200, 200, 1);\n",
    "  background-color: transparent;\n",
    "  text-decoration: none;\n",
    "}\n",
    "a:hover {\n",
    "  color: rgba(200, 200, 200, 1);\n",
    "  background-color: transparent;\n",
    "  text-decoration: underline;\n",
    "}\n",
    "</style>\n",
    "#### 3.2.7. <a id='toc3_2_7_'></a>[Visualisierung](#toc0_)"
   ]
  },
  {
   "cell_type": "code",
   "execution_count": 43,
   "metadata": {},
   "outputs": [
    {
     "data": {
      "application/vnd.jupyter.widget-view+json": {
       "model_id": "54827d9de90a4d358ba20658301761ab",
       "version_major": 2,
       "version_minor": 0
      },
      "text/plain": [
       "AppLayout(children=(VBox(children=(HTML(value='<h3>u</h3>'), Dropdown(description='Colormap:', options=(('BrBG…"
      ]
     },
     "metadata": {},
     "output_type": "display_data"
    }
   ],
   "source": [
    "import pyvista\n",
    "# pyvista.set_jupyter_backend('ipygany')  \n",
    "pyvista.start_xvfb()\n",
    "pyvista.global_theme.font.color = 'black'\n",
    "\n",
    "# Create plotter and pyvista grid\n",
    "p = pyvista.Plotter()\n",
    "p.background_color = \"white\"\n",
    "\n",
    "topology, cell_types, geometry = dolfinx.plot.create_vtk_mesh(V)\n",
    "grid = pyvista.UnstructuredGrid(topology, cell_types, geometry)\n",
    "edge = pyvista.UnstructuredGrid(np.array([8, 0, 1, 3, 2, 4, 5, 7, 6], dtype=np.int32), \n",
    "                                np.array([12]), \n",
    "                                np.array([[ 6.93889390e-18,  1.38777878e-18,  4.16333634e-18],\n",
    "                                    [ 5.00000000e-01,  9.71445147e-18,  6.93889390e-18],\n",
    "                                    [ 4.85722573e-17,  1.00000000e-01,  6.93889390e-18],\n",
    "                                    [ 5.00000000e-01,  1.00000000e-01, -1.80411242e-17],\n",
    "                                    [ 4.85722573e-17,  6.93889390e-18,  1.00000000e-01],\n",
    "                                    [ 5.00000000e-01, -1.80411242e-17,  1.00000000e-01],\n",
    "                                    [-1.04083409e-16,  1.00000000e-01,  1.00000000e-01],\n",
    "                                    [ 5.00000000e-01,  1.00000000e-01,  1.00000000e-01]]))\n",
    "\n",
    "# Attach vector values to grid and warp grid by vector\n",
    "grid[\"u\"] = uh.x.array.reshape((geometry.shape[0], 3))\n",
    "actor_0 = p.add_mesh(edge, style=\"wireframe\", color=\"k\")\n",
    "warped = grid.warp_by_vector(\"u\", factor=160)\n",
    "actor_1 = p.add_mesh(warped, show_edges=False)\n",
    "_ = p.add_axes(interactive=True, color='black')\n",
    "p.show_axes()\n",
    "if not pyvista.OFF_SCREEN:\n",
    "   p.show()\n",
    "else:\n",
    "   figure_as_array = p.screenshot(\"deflection.png\")"
   ]
  },
  {
   "cell_type": "markdown",
   "metadata": {},
   "source": [
    "<style>\n",
    "a:link {\n",
    "  color: rgba(200, 200, 200, 1);\n",
    "  background-color: transparent;\n",
    "  text-decoration: none;\n",
    "}\n",
    "a:hover {\n",
    "  color: rgba(200, 200, 200, 1);\n",
    "  background-color: transparent;\n",
    "  text-decoration: underline;\n",
    "}\n",
    "</style>\n",
    "## 4. <a id='toc4_'></a>[Referenzen](#toc0_)"
   ]
  },
  {
   "cell_type": "markdown",
   "metadata": {},
   "source": [
    "Alternative Beispiele, sowie Hintergrundinformationen zur Mathematik und der FEniCSx Implementierung\n",
    "https://jsdokken.com/dolfinx-tutorial/fem.html"
   ]
  },
  {
   "cell_type": "markdown",
   "metadata": {},
   "source": []
  }
 ],
 "metadata": {
  "kernelspec": {
   "display_name": "Python 3",
   "language": "python",
   "name": "python3"
  },
  "language_info": {
   "codemirror_mode": {
    "name": "ipython",
    "version": 3
   },
   "file_extension": ".py",
   "mimetype": "text/x-python",
   "name": "python",
   "nbconvert_exporter": "python",
   "pygments_lexer": "ipython3",
   "version": "3.10.6"
  },
  "orig_nbformat": 4
 },
 "nbformat": 4,
 "nbformat_minor": 2
}
