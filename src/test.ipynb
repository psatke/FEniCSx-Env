{
 "cells": [
  {
   "cell_type": "code",
   "execution_count": 1,
   "metadata": {},
   "outputs": [],
   "source": [
    "import dolfinx\n",
    "import ufl\n",
    "from petsc4py import PETSc\n",
    "from mpi4py import MPI\n",
    "import gmsh\n",
    "import pyvista\n",
    "import numpy as np"
   ]
  },
  {
   "cell_type": "code",
   "execution_count": 2,
   "metadata": {},
   "outputs": [],
   "source": [
    "L = 0.5         # [m]\n",
    "W = 0.1         # [m] \n",
    "nu = 0.3\n",
    "EMod = 2e11     # [N/m2]\n",
    "rho = 7850      # [kg/m3]\n",
    "\n",
    "F = 10000        # [N]\n",
    "\n",
    "lambda_ = nu/(1-2*nu)*1/(1+nu)*EMod\n",
    "mu = 1/2*1/(1+nu)*EMod"
   ]
  },
  {
   "cell_type": "code",
   "execution_count": 3,
   "metadata": {},
   "outputs": [],
   "source": [
    "domain = dolfinx.mesh.create_box(MPI.COMM_WORLD, [np.array([0,0,0]), np.array([L,W,W])], [50,10,10], cell_type=dolfinx.mesh.CellType.hexahedron)\n",
    "V = dolfinx.fem.VectorFunctionSpace(domain, (\"CG\", 1))"
   ]
  },
  {
   "cell_type": "code",
   "execution_count": 4,
   "metadata": {},
   "outputs": [],
   "source": [
    "def floatingBearingGetLoc(x):\n",
    "    xBoolean = np.isclose(x[0], 0)\n",
    "    zBoolean = np.isclose(x[2], 0)\n",
    "    return xBoolean & zBoolean\n",
    "\n",
    "floatingBearingLoc = dolfinx.mesh.locate_entities_boundary(domain, 1, floatingBearingGetLoc)\n",
    "floatingBearingDof = dolfinx.fem.locate_dofs_topological(V.sub(2), 1, floatingBearingLoc)\n",
    "\n",
    "floatingBearing = dolfinx.fem.dirichletbc(PETSc.ScalarType(0), floatingBearingDof, V.sub(2))"
   ]
  },
  {
   "cell_type": "code",
   "execution_count": 5,
   "metadata": {},
   "outputs": [],
   "source": [
    "def symmetryXGetLoc(x):\n",
    "    return np.isclose(x[0], L)\n",
    "\n",
    "symmetryXLoc = dolfinx.mesh.locate_entities_boundary(domain, 2, symmetryXGetLoc)\n",
    "symmetryXDof = dolfinx.fem.locate_dofs_topological(V.sub(0), 2, symmetryXLoc)\n",
    "\n",
    "symmetryX = dolfinx.fem.dirichletbc(PETSc.ScalarType(0), symmetryXDof, V.sub(0))"
   ]
  },
  {
   "cell_type": "code",
   "execution_count": 6,
   "metadata": {},
   "outputs": [],
   "source": [
    "def symmetryYGetLoc(x):\n",
    "    return np.isclose(x[1], 0)\n",
    "\n",
    "symmetryYLoc = dolfinx.mesh.locate_entities_boundary(domain, 2, symmetryYGetLoc)\n",
    "symmetryYDof = dolfinx.fem.locate_dofs_topological(V.sub(1), 2, symmetryYLoc)\n",
    "\n",
    "symmetryY = dolfinx.fem.dirichletbc(PETSc.ScalarType(0), symmetryYDof, V.sub(1))"
   ]
  },
  {
   "cell_type": "code",
   "execution_count": 7,
   "metadata": {},
   "outputs": [],
   "source": [
    "def loadGetLoc(x):\n",
    "    # xBoolean = np.isclose(x[0], L)\n",
    "    return np.isclose(x[2], W)\n",
    "    # return xBoolean & zBoolean\n",
    "\n",
    "loadLoc = dolfinx.mesh.locate_entities_boundary(domain, 2, loadGetLoc)\n",
    "mt = dolfinx.mesh.meshtags(domain, 2, loadLoc, 1)\n",
    "ds = ufl.Measure(\"ds\", domain=domain, subdomain_data=mt, subdomain_id=1)\n",
    "# dx = ufl.Measure(\"dx\", domain=domain)"
   ]
  },
  {
   "cell_type": "code",
   "execution_count": 8,
   "metadata": {},
   "outputs": [],
   "source": [
    "T = dolfinx.fem.Constant(domain, PETSc.ScalarType((0,0,-F/(L*W))))\n",
    "# T = dolfinx.Constant(domain, ufl.as_vector((0,0,-1000)))"
   ]
  },
  {
   "cell_type": "code",
   "execution_count": 9,
   "metadata": {},
   "outputs": [],
   "source": [
    "def epsilon(u):\n",
    "    return ufl.sym(ufl.grad(u))\n",
    "def sigma(u):\n",
    "    return lambda_ * ufl.nabla_div(u) * ufl.Identity(len(u)) + 2*mu*epsilon(u)\n",
    "\n",
    "u = ufl.TrialFunction(V)\n",
    "v = ufl.TestFunction(V)\n",
    "# f = dolfinx.fem.Constant(domain, PETSc.ScalarType((0,0,-9.81*rho)))\n",
    "f = dolfinx.fem.Constant(domain, PETSc.ScalarType((0,0,0)))\n",
    "a = ufl.inner(sigma(u), epsilon(v)) * ufl.dx\n",
    "L = ufl.dot(f, v) * ufl.dx + ufl.dot(T, v) * ds\n",
    "# L = f* v * dx + T* v * ds"
   ]
  },
  {
   "cell_type": "code",
   "execution_count": 10,
   "metadata": {},
   "outputs": [],
   "source": [
    "problem = dolfinx.fem.petsc.LinearProblem(a, L, bcs=[floatingBearing, symmetryX, symmetryY], petsc_options={\"ksp_type\": \"preonly\", \"pc_type\": \"lu\"})\n",
    "uh = problem.solve()"
   ]
  },
  {
   "cell_type": "code",
   "execution_count": 12,
   "metadata": {},
   "outputs": [
    {
     "data": {
      "application/vnd.jupyter.widget-view+json": {
       "model_id": "94d58249c8ad4b45a222040b3e420589",
       "version_major": 2,
       "version_minor": 0
      },
      "text/plain": [
       "ViewInteractiveWidget(height=768, layout=Layout(height='auto', width='100%'), width=1024)"
      ]
     },
     "metadata": {},
     "output_type": "display_data"
    }
   ],
   "source": [
    "import pyvista\n",
    "pyvista.start_xvfb()\n",
    "pyvista.global_theme.font.color = 'black'\n",
    "\n",
    "# Create plotter and pyvista grid\n",
    "p = pyvista.Plotter()\n",
    "p.background_color = \"white\"\n",
    "\n",
    "topology, cell_types, geometry = dolfinx.plot.create_vtk_mesh(V)\n",
    "grid = pyvista.UnstructuredGrid(topology, cell_types, geometry)\n",
    "edge = pyvista.UnstructuredGrid(np.array([8, 0, 1, 3, 2, 4, 5, 7, 6], dtype=np.int32), \n",
    "                                np.array([12]), \n",
    "                                np.array([[ 6.93889390e-18,  1.38777878e-18,  4.16333634e-18],\n",
    "                                    [ 5.00000000e-01,  9.71445147e-18,  6.93889390e-18],\n",
    "                                    [ 4.85722573e-17,  1.00000000e-01,  6.93889390e-18],\n",
    "                                    [ 5.00000000e-01,  1.00000000e-01, -1.80411242e-17],\n",
    "                                    [ 4.85722573e-17,  6.93889390e-18,  1.00000000e-01],\n",
    "                                    [ 5.00000000e-01, -1.80411242e-17,  1.00000000e-01],\n",
    "                                    [-1.04083409e-16,  1.00000000e-01,  1.00000000e-01],\n",
    "                                    [ 5.00000000e-01,  1.00000000e-01,  1.00000000e-01]]))\n",
    "\n",
    "# Attach vector values to grid and warp grid by vector\n",
    "grid[\"u\"] = uh.x.array.reshape((geometry.shape[0], 3))\n",
    "actor_0 = p.add_mesh(edge, style=\"wireframe\", color=\"k\")\n",
    "warped = grid.warp_by_vector(\"u\", factor=160)\n",
    "actor_1 = p.add_mesh(warped, show_edges=False)\n",
    "_ = p.add_axes(interactive=True, color='black')\n",
    "p.show_axes()\n",
    "if not pyvista.OFF_SCREEN:\n",
    "   p.show()\n",
    "else:\n",
    "   figure_as_array = p.screenshot(\"deflection.png\")"
   ]
  },
  {
   "cell_type": "code",
   "execution_count": null,
   "metadata": {},
   "outputs": [],
   "source": []
  }
 ],
 "metadata": {
  "kernelspec": {
   "display_name": "Python 3",
   "language": "python",
   "name": "python3"
  },
  "language_info": {
   "codemirror_mode": {
    "name": "ipython",
    "version": 3
   },
   "file_extension": ".py",
   "mimetype": "text/x-python",
   "name": "python",
   "nbconvert_exporter": "python",
   "pygments_lexer": "ipython3",
   "version": "3.10.6"
  },
  "orig_nbformat": 4
 },
 "nbformat": 4,
 "nbformat_minor": 2
}
